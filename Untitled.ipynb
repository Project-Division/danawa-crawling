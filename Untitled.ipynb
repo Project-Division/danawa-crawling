{
 "cells": [
  {
   "cell_type": "code",
   "execution_count": 1,
   "id": "785354ea",
   "metadata": {},
   "outputs": [],
   "source": [
    "import requests\n",
    "from bs4 import BeautifulSoup\n",
    "\n",
    "import urllib3\n",
    "urllib3.disable_warnings()"
   ]
  },
  {
   "cell_type": "code",
   "execution_count": 2,
   "id": "0ec7f751",
   "metadata": {},
   "outputs": [],
   "source": [
    "import os\n",
    "\n",
    "def save_image_file(dir_name, index, url):\n",
    "    if not os.path.exists(dir_name):\n",
    "        os.mkdir(dir_name)\n",
    "    \n",
    "    file_name = \"{0}/{1}.jpg\".format(dir_name, index)\n",
    "    f_object = open(file_name, \"wb\")\n",
    "    resp = requests.get(url, \\\n",
    "                    headers = {\n",
    "                        \"referer\": \"https://shop.danawa.com/virtualestimate/?controller=estimateMain&methods=index&marketPlaceSeq=16\"\\\n",
    "                        , \"User-Agent\": \"Mozilla/5.0 (Windows NT 10.0; Win64; x64) AppleWebKit/537.36 (KHTML, like Gecko) Chrome/118.0.0.0 Whale/3.23.214.10 Safari/537.36\", \\\n",
    "                    },\\\n",
    "                    verify=False, timeout=None)\n",
    "    f_object.write(resp.content)\n",
    "    f_object.close()"
   ]
  },
  {
   "cell_type": "code",
   "execution_count": 3,
   "id": "16915ef2",
   "metadata": {},
   "outputs": [],
   "source": [
    "category_dict = {}\n",
    "category_dict[\"CPU\"] = 873\n",
    "category_dict[\"쿨러\"] = 887\n",
    "category_dict[\"메인보드\"] = 875\n",
    "category_dict[\"메모리\"] = 874\n",
    "category_dict[\"그래픽카드\"] = 876\n",
    "category_dict[\"SSD\"] = 32617\n",
    "category_dict[\"HDD\"] = 877\n",
    "category_dict[\"케이스\"] = 879\n",
    "category_dict[\"파워\"] = 880\n",
    "\n",
    "for category_name in category_dict.keys():\n",
    "    file_name = \"{0}.txt\".format(category_name)\n",
    "    db_file = open(file_name, \"w\")\n",
    "    \n",
    "    category_seq = category_dict[category_name]\n",
    "    request_url = \"https://shop.danawa.com/virtualestimate/?controller=estimateMain&methods=product&marketPlaceSeq=16&categorySeq={0}&categoryDepth=2&pseq=2\".format(category_seq)\n",
    "    resp = requests.get(request_url, \\\n",
    "                        headers = {\n",
    "                            \"referer\": \"https://shop.danawa.com/virtualestimate/?controller=estimateMain&methods=index&marketPlaceSeq=16\"\\\n",
    "                            , \"User-Agent\": \"Mozilla/5.0 (Windows NT 10.0; Win64; x64) AppleWebKit/537.36 (KHTML, like Gecko) Chrome/118.0.0.0 Whale/3.23.214.10 Safari/537.36\", \\\n",
    "                        },\\\n",
    "                        verify=False, timeout=None)\n",
    "\n",
    "    parser = BeautifulSoup(resp.content, \"html.parser\")\n",
    "\n",
    "    item_list = parser.select(\".tbl_list tr\")\n",
    "    curr_index = 0\n",
    "    for index, item in enumerate(item_list):\n",
    "        image_obj = item.select(\".goods_img_box img\")\n",
    "        title_obj = item.select(\".title_price .subject a\")\n",
    "        spec_obj = item.select(\".spec_wrap a\")\n",
    "        price_obj = item.select(\".rig_line span\")\n",
    "        if image_obj and title_obj and spec_obj:\n",
    "            image_url = image_obj[0][\"src\"]\n",
    "            image_url = \"https:\" + image_url.replace(\"?shrink=80:80\", \"?shrink=500:500\")\n",
    "            save_image_file(category_name, curr_index, image_url)\n",
    "\n",
    "            title = title_obj[0].text.strip()\n",
    "            spec = spec_obj[0].text.strip()\n",
    "            price = price_obj[0].text.strip()\n",
    "            db_file.write(\"{0}|{1}|{2}|{3}\\n\".format(curr_index, title, price, spec))\n",
    "            curr_index += 1\n",
    "    db_file.close()"
   ]
  }
 ],
 "metadata": {
  "kernelspec": {
   "display_name": "Python 3 (ipykernel)",
   "language": "python",
   "name": "python3"
  },
  "language_info": {
   "codemirror_mode": {
    "name": "ipython",
    "version": 3
   },
   "file_extension": ".py",
   "mimetype": "text/x-python",
   "name": "python",
   "nbconvert_exporter": "python",
   "pygments_lexer": "ipython3",
   "version": "3.10.9"
  },
  "toc": {
   "base_numbering": 1,
   "nav_menu": {},
   "number_sections": true,
   "sideBar": true,
   "skip_h1_title": false,
   "title_cell": "Table of Contents",
   "title_sidebar": "Contents",
   "toc_cell": false,
   "toc_position": {},
   "toc_section_display": true,
   "toc_window_display": false
  }
 },
 "nbformat": 4,
 "nbformat_minor": 5
}
